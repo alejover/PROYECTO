{
    "cells": [
        {
            "metadata": {},
            "cell_type": "code",
            "source": "\nimport ibmos2spark\n# @hidden_cell\ncredentials = {\n    'endpoint': 'https://s3-api.us-geo.objectstorage.service.networklayer.com',\n    'service_id': 'iam-ServiceId-90532c10-3c3b-4411-88d3-39cf1ab2876a',\n    'iam_service_endpoint': 'https://iam.cloud.ibm.com/oidc/token',\n    'api_key': 'eaqxw1vwVgOKoBdKu0bjWyJfczIhfrxgva80CBBqqRsi'\n}\n\nconfiguration_name = 'os_e39cf96fa68b4ab2b0c84807e39f1f68_configs'\ncos = ibmos2spark.CloudObjectStorage(sc, credentials, configuration_name, 'bluemix_cos')\n\nfrom pyspark.sql import SparkSession\nspark = SparkSession.builder.getOrCreate()\ndf_data_1 = spark.read\\\n  .format('org.apache.spark.sql.execution.datasources.csv.CSVFileFormat')\\\n  .option('header', 'true')\\\n  .load(cos.url('base_datos_2008.csv', 'myfirstproyect-donotdelete-pr-sdsy6ww7yr2epy'))\ndf_data_1.take(5)\n",
            "execution_count": 1,
            "outputs": [
                {
                    "output_type": "stream",
                    "text": "Waiting for a Spark session to start...\nSpark Initialization Done! ApplicationId = app-20210218190635-0000\nKERNEL_ID = f4aaad98-250f-4b19-8632-36fc92f281ea\n",
                    "name": "stdout"
                },
                {
                    "output_type": "execute_result",
                    "execution_count": 1,
                    "data": {
                        "text/plain": "[Row(Year='2008', Month='1', DayofMonth='3', DayOfWeek='4', DepTime='2003', CRSDepTime='1955', ArrTime='2211', CRSArrTime='2225', UniqueCarrier='WN', FlightNum='335', TailNum='N712SW', ActualElapsedTime='128', CRSElapsedTime='150', AirTime='116', ArrDelay='-14', DepDelay='8', Origin='IAD', Dest='TPA', Distance='810', TaxiIn='4', TaxiOut='8', Cancelled='0', CancellationCode=None, Diverted='0', CarrierDelay='NA', WeatherDelay='NA', NASDelay='NA', SecurityDelay='NA', LateAircraftDelay='NA'),\n Row(Year='2008', Month='1', DayofMonth='3', DayOfWeek='4', DepTime='754', CRSDepTime='735', ArrTime='1002', CRSArrTime='1000', UniqueCarrier='WN', FlightNum='3231', TailNum='N772SW', ActualElapsedTime='128', CRSElapsedTime='145', AirTime='113', ArrDelay='2', DepDelay='19', Origin='IAD', Dest='TPA', Distance='810', TaxiIn='5', TaxiOut='10', Cancelled='0', CancellationCode=None, Diverted='0', CarrierDelay='NA', WeatherDelay='NA', NASDelay='NA', SecurityDelay='NA', LateAircraftDelay='NA'),\n Row(Year='2008', Month='1', DayofMonth='3', DayOfWeek='4', DepTime='628', CRSDepTime='620', ArrTime='804', CRSArrTime='750', UniqueCarrier='WN', FlightNum='448', TailNum='N428WN', ActualElapsedTime='96', CRSElapsedTime='90', AirTime='76', ArrDelay='14', DepDelay='8', Origin='IND', Dest='BWI', Distance='515', TaxiIn='3', TaxiOut='17', Cancelled='0', CancellationCode=None, Diverted='0', CarrierDelay='NA', WeatherDelay='NA', NASDelay='NA', SecurityDelay='NA', LateAircraftDelay='NA'),\n Row(Year='2008', Month='1', DayofMonth='3', DayOfWeek='4', DepTime='926', CRSDepTime='930', ArrTime='1054', CRSArrTime='1100', UniqueCarrier='WN', FlightNum='1746', TailNum='N612SW', ActualElapsedTime='88', CRSElapsedTime='90', AirTime='78', ArrDelay='-6', DepDelay='-4', Origin='IND', Dest='BWI', Distance='515', TaxiIn='3', TaxiOut='7', Cancelled='0', CancellationCode=None, Diverted='0', CarrierDelay='NA', WeatherDelay='NA', NASDelay='NA', SecurityDelay='NA', LateAircraftDelay='NA'),\n Row(Year='2008', Month='1', DayofMonth='3', DayOfWeek='4', DepTime='1829', CRSDepTime='1755', ArrTime='1959', CRSArrTime='1925', UniqueCarrier='WN', FlightNum='3920', TailNum='N464WN', ActualElapsedTime='90', CRSElapsedTime='90', AirTime='77', ArrDelay='34', DepDelay='34', Origin='IND', Dest='BWI', Distance='515', TaxiIn='3', TaxiOut='10', Cancelled='0', CancellationCode=None, Diverted='0', CarrierDelay='2', WeatherDelay='0', NASDelay='0', SecurityDelay='0', LateAircraftDelay='32')]"
                    },
                    "metadata": {}
                }
            ]
        },
        {
            "metadata": {},
            "cell_type": "code",
            "source": "",
            "execution_count": null,
            "outputs": []
        }
    ],
    "metadata": {
        "kernelspec": {
            "name": "python37",
            "display_name": "Python 3.7 with Spark",
            "language": "python3"
        },
        "language_info": {
            "mimetype": "text/x-python",
            "nbconvert_exporter": "python",
            "name": "python",
            "pygments_lexer": "ipython3",
            "version": "3.7.9",
            "file_extension": ".py",
            "codemirror_mode": {
                "version": 3,
                "name": "ipython"
            }
        }
    },
    "nbformat": 4,
    "nbformat_minor": 1
}